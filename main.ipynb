{
 "cells": [
  {
   "cell_type": "code",
   "execution_count": null,
   "metadata": {},
   "outputs": [
    {
     "name": "stdout",
     "output_type": "stream",
     "text": [
      "input File NametrainingData.csv\n",
      "   Age  Salary Class\n",
      "0   30      65     G\n",
      "1   23      15     B\n",
      "2   40      75     G\n",
      "3   55      40     B\n",
      "4   55     100     G\n",
      "5   45      60     G\n",
      "Initial Class List with node\n",
      "[['G', 0], ['B', 0], ['G', 0], ['B', 0], ['G', 0], ['G', 0]]\n",
      "---------------------------------\n",
      "(breakpoint, gini Index) table \n",
      "[[26.5, 0.26666666666666655], [35.0, 0.41666666666666663], [42.5, 0.4444444444444444], [50.0, 0.41666666666666663], [55.0, 0.25]]\n",
      "Break Point\n",
      "55.0\n",
      "class list with updated node\n",
      "[['G', 1], ['B', 1], ['G', 1], ['B', 2], ['G', 2], ['G', 1]]\n",
      "--------------------------------------------\n",
      "(breakpoint, gini Index) table \n",
      "[[37.5, 0.0], [62.5, 0.25], [70.0, 0.3333333333333333]]\n",
      "Break Point\n",
      "37.5\n",
      "class list with updated node\n",
      "[['G', 4], ['B', 3], ['G', 4], ['B', 2], ['G', 2], ['G', 4]]\n",
      "(breakpoint, gini Index) table \n",
      "[[70.0, 0.0]]\n",
      "Break Point\n",
      "70.0\n",
      "class list with updated node\n",
      "[['G', 4], ['B', 3], ['G', 4], ['B', 5], ['G', 6], ['G', 4]]\n",
      "--------------------------------------------\n",
      "Please Input Data in order same as attributes:\n"
     ]
    }
   ],
   "source": [
    "from functions import *\n",
    "from FileProperty import SLIQ_File\n",
    "fileName=input(\"input File Name\")\n",
    "main(fileName)"
   ]
  },
  {
   "cell_type": "code",
   "execution_count": null,
   "metadata": {},
   "outputs": [],
   "source": []
  },
  {
   "cell_type": "code",
   "execution_count": null,
   "metadata": {},
   "outputs": [],
   "source": []
  },
  {
   "cell_type": "code",
   "execution_count": null,
   "metadata": {},
   "outputs": [],
   "source": []
  },
  {
   "cell_type": "code",
   "execution_count": null,
   "metadata": {},
   "outputs": [],
   "source": []
  },
  {
   "cell_type": "code",
   "execution_count": null,
   "metadata": {},
   "outputs": [],
   "source": []
  },
  {
   "cell_type": "code",
   "execution_count": null,
   "metadata": {},
   "outputs": [],
   "source": []
  },
  {
   "cell_type": "code",
   "execution_count": null,
   "metadata": {},
   "outputs": [],
   "source": []
  }
 ],
 "metadata": {
  "kernelspec": {
   "display_name": "Python 3",
   "language": "python",
   "name": "python3"
  },
  "language_info": {
   "codemirror_mode": {
    "name": "ipython",
    "version": 3
   },
   "file_extension": ".py",
   "mimetype": "text/x-python",
   "name": "python",
   "nbconvert_exporter": "python",
   "pygments_lexer": "ipython3",
   "version": "3.7.1"
  }
 },
 "nbformat": 4,
 "nbformat_minor": 2
}
